{
 "cells": [
  {
   "cell_type": "code",
   "execution_count": 1,
   "metadata": {
    "id": "LCGAM0G8lQNK"
   },
   "outputs": [],
   "source": [
    "import pandas as pd\n",
    "from sklearn.model_selection import train_test_split"
   ]
  },
  {
   "cell_type": "code",
   "execution_count": 2,
   "metadata": {
    "id": "6X0m79WalQNQ"
   },
   "outputs": [],
   "source": [
    "df2 = pd.read_excel(\"2021MCMProblemC_DataSet.xlsx\")"
   ]
  },
  {
   "cell_type": "code",
   "execution_count": 3,
   "metadata": {
    "colab": {
     "base_uri": "https://localhost:8080/",
     "height": 615
    },
    "id": "5GZfs472lQNQ",
    "outputId": "221f6383-3783-4238-d3ac-36b19721714d"
   },
   "outputs": [
    {
     "data": {
      "text/html": [
       "<div>\n",
       "<style scoped>\n",
       "    .dataframe tbody tr th:only-of-type {\n",
       "        vertical-align: middle;\n",
       "    }\n",
       "\n",
       "    .dataframe tbody tr th {\n",
       "        vertical-align: top;\n",
       "    }\n",
       "\n",
       "    .dataframe thead th {\n",
       "        text-align: right;\n",
       "    }\n",
       "</style>\n",
       "<table border=\"1\" class=\"dataframe\">\n",
       "  <thead>\n",
       "    <tr style=\"text-align: right;\">\n",
       "      <th></th>\n",
       "      <th>GlobalID</th>\n",
       "      <th>Detection Date</th>\n",
       "      <th>Notes</th>\n",
       "      <th>Lab Status</th>\n",
       "      <th>Lab Comments</th>\n",
       "      <th>Submission Date</th>\n",
       "      <th>Latitude</th>\n",
       "      <th>Longitude</th>\n",
       "    </tr>\n",
       "  </thead>\n",
       "  <tbody>\n",
       "    <tr>\n",
       "      <th>0</th>\n",
       "      <td>{5AC8034E-5B46-4294-85F0-5B13117EBEFE}</td>\n",
       "      <td>2019-12-08 00:00:00</td>\n",
       "      <td>One dead wasp seen in Blaine, and suspect flyi...</td>\n",
       "      <td>Positive ID</td>\n",
       "      <td></td>\n",
       "      <td>2020-01-15</td>\n",
       "      <td>48.980994</td>\n",
       "      <td>-122.688503</td>\n",
       "    </tr>\n",
       "    <tr>\n",
       "      <th>1</th>\n",
       "      <td>{5EAD3364-2CA7-4A39-9A53-7F9DCF5D2041}</td>\n",
       "      <td>2019-10-30 00:00:00</td>\n",
       "      <td>Hornet specimen sent to WSU</td>\n",
       "      <td>Positive ID</td>\n",
       "      <td></td>\n",
       "      <td>2020-01-15</td>\n",
       "      <td>48.971949</td>\n",
       "      <td>-122.700941</td>\n",
       "    </tr>\n",
       "    <tr>\n",
       "      <th>2</th>\n",
       "      <td>{13B67BCB-AFCE-4100-AD2B-76EF178BA228}</td>\n",
       "      <td>2020-01-15 00:00:00</td>\n",
       "      <td>Massive loss of bees, decapitated. No hornet s...</td>\n",
       "      <td>Unverified</td>\n",
       "      <td></td>\n",
       "      <td>2020-01-15</td>\n",
       "      <td>48.939200</td>\n",
       "      <td>-122.661300</td>\n",
       "    </tr>\n",
       "    <tr>\n",
       "      <th>3</th>\n",
       "      <td>{124B9BFA-7F7B-4B8E-8A56-42E067F0F72E}</td>\n",
       "      <td>2019-09-19 00:00:00</td>\n",
       "      <td>This was the colony that was found and destroy...</td>\n",
       "      <td>Positive ID</td>\n",
       "      <td>Thanks for adding this, and the great pictures!</td>\n",
       "      <td>2020-02-04</td>\n",
       "      <td>49.149394</td>\n",
       "      <td>-123.943134</td>\n",
       "    </tr>\n",
       "    <tr>\n",
       "      <th>4</th>\n",
       "      <td>{BBBA5BA0-CAFB-43D3-8F1D-FB2D9CF777E0}</td>\n",
       "      <td>2019-08-31 00:00:00</td>\n",
       "      <td>I was cleaning my gutters when I heard a snapp...</td>\n",
       "      <td>Unverified</td>\n",
       "      <td>Thanks for this report. I can't verify it from...</td>\n",
       "      <td>2020-02-14</td>\n",
       "      <td>48.723779</td>\n",
       "      <td>-122.354431</td>\n",
       "    </tr>\n",
       "  </tbody>\n",
       "</table>\n",
       "</div>"
      ],
      "text/plain": [
       "                                 GlobalID  ...   Longitude\n",
       "0  {5AC8034E-5B46-4294-85F0-5B13117EBEFE}  ... -122.688503\n",
       "1  {5EAD3364-2CA7-4A39-9A53-7F9DCF5D2041}  ... -122.700941\n",
       "2  {13B67BCB-AFCE-4100-AD2B-76EF178BA228}  ... -122.661300\n",
       "3  {124B9BFA-7F7B-4B8E-8A56-42E067F0F72E}  ... -123.943134\n",
       "4  {BBBA5BA0-CAFB-43D3-8F1D-FB2D9CF777E0}  ... -122.354431\n",
       "\n",
       "[5 rows x 8 columns]"
      ]
     },
     "execution_count": 3,
     "metadata": {
      "tags": []
     },
     "output_type": "execute_result"
    }
   ],
   "source": [
    "df2.head()"
   ]
  },
  {
   "cell_type": "code",
   "execution_count": 4,
   "metadata": {
    "colab": {
     "base_uri": "https://localhost:8080/"
    },
    "id": "UPh45ivZlQNS",
    "outputId": "6bf0dbbb-7af4-440a-a8e4-bae43ec63c7a"
   },
   "outputs": [
    {
     "data": {
      "text/plain": [
       "GlobalID           0\n",
       "Detection Date     0\n",
       "Notes              0\n",
       "Lab Status         0\n",
       "Lab Comments       2\n",
       "Submission Date    0\n",
       "Latitude           0\n",
       "Longitude          0\n",
       "dtype: int64"
      ]
     },
     "execution_count": 4,
     "metadata": {
      "tags": []
     },
     "output_type": "execute_result"
    }
   ],
   "source": [
    "df2.isna().sum()"
   ]
  },
  {
   "cell_type": "code",
   "execution_count": 5,
   "metadata": {
    "id": "8lzbAgzolQNS"
   },
   "outputs": [],
   "source": [
    "df2.fillna(\"\", inplace = True)"
   ]
  },
  {
   "cell_type": "code",
   "execution_count": 6,
   "metadata": {
    "id": "f80MLpEVlQNT"
   },
   "outputs": [],
   "source": [
    "def lab_status(status):\n",
    "    if(status == 'Positive ID'):\n",
    "        return 0\n",
    "    if(status == 'Negative ID'):\n",
    "        return 1\n",
    "    if(status == 'Unverified'):\n",
    "        return\n",
    "    return\n",
    "\n",
    "df2['Lab Status'] = df2['Lab Status'].apply(lab_status)"
   ]
  },
  {
   "cell_type": "code",
   "execution_count": 7,
   "metadata": {
    "colab": {
     "base_uri": "https://localhost:8080/",
     "height": 615
    },
    "id": "6QZjoLOalQNT",
    "outputId": "94e52325-7904-411c-fd14-b565836e48f5"
   },
   "outputs": [
    {
     "data": {
      "text/html": [
       "<div>\n",
       "<style scoped>\n",
       "    .dataframe tbody tr th:only-of-type {\n",
       "        vertical-align: middle;\n",
       "    }\n",
       "\n",
       "    .dataframe tbody tr th {\n",
       "        vertical-align: top;\n",
       "    }\n",
       "\n",
       "    .dataframe thead th {\n",
       "        text-align: right;\n",
       "    }\n",
       "</style>\n",
       "<table border=\"1\" class=\"dataframe\">\n",
       "  <thead>\n",
       "    <tr style=\"text-align: right;\">\n",
       "      <th></th>\n",
       "      <th>GlobalID</th>\n",
       "      <th>Detection Date</th>\n",
       "      <th>Notes</th>\n",
       "      <th>Lab Status</th>\n",
       "      <th>Lab Comments</th>\n",
       "      <th>Submission Date</th>\n",
       "      <th>Latitude</th>\n",
       "      <th>Longitude</th>\n",
       "    </tr>\n",
       "  </thead>\n",
       "  <tbody>\n",
       "    <tr>\n",
       "      <th>0</th>\n",
       "      <td>{5AC8034E-5B46-4294-85F0-5B13117EBEFE}</td>\n",
       "      <td>2019-12-08 00:00:00</td>\n",
       "      <td>One dead wasp seen in Blaine, and suspect flyi...</td>\n",
       "      <td>0.0</td>\n",
       "      <td></td>\n",
       "      <td>2020-01-15</td>\n",
       "      <td>48.980994</td>\n",
       "      <td>-122.688503</td>\n",
       "    </tr>\n",
       "    <tr>\n",
       "      <th>1</th>\n",
       "      <td>{5EAD3364-2CA7-4A39-9A53-7F9DCF5D2041}</td>\n",
       "      <td>2019-10-30 00:00:00</td>\n",
       "      <td>Hornet specimen sent to WSU</td>\n",
       "      <td>0.0</td>\n",
       "      <td></td>\n",
       "      <td>2020-01-15</td>\n",
       "      <td>48.971949</td>\n",
       "      <td>-122.700941</td>\n",
       "    </tr>\n",
       "    <tr>\n",
       "      <th>2</th>\n",
       "      <td>{13B67BCB-AFCE-4100-AD2B-76EF178BA228}</td>\n",
       "      <td>2020-01-15 00:00:00</td>\n",
       "      <td>Massive loss of bees, decapitated. No hornet s...</td>\n",
       "      <td>NaN</td>\n",
       "      <td></td>\n",
       "      <td>2020-01-15</td>\n",
       "      <td>48.939200</td>\n",
       "      <td>-122.661300</td>\n",
       "    </tr>\n",
       "    <tr>\n",
       "      <th>3</th>\n",
       "      <td>{124B9BFA-7F7B-4B8E-8A56-42E067F0F72E}</td>\n",
       "      <td>2019-09-19 00:00:00</td>\n",
       "      <td>This was the colony that was found and destroy...</td>\n",
       "      <td>0.0</td>\n",
       "      <td>Thanks for adding this, and the great pictures!</td>\n",
       "      <td>2020-02-04</td>\n",
       "      <td>49.149394</td>\n",
       "      <td>-123.943134</td>\n",
       "    </tr>\n",
       "    <tr>\n",
       "      <th>4</th>\n",
       "      <td>{BBBA5BA0-CAFB-43D3-8F1D-FB2D9CF777E0}</td>\n",
       "      <td>2019-08-31 00:00:00</td>\n",
       "      <td>I was cleaning my gutters when I heard a snapp...</td>\n",
       "      <td>NaN</td>\n",
       "      <td>Thanks for this report. I can't verify it from...</td>\n",
       "      <td>2020-02-14</td>\n",
       "      <td>48.723779</td>\n",
       "      <td>-122.354431</td>\n",
       "    </tr>\n",
       "  </tbody>\n",
       "</table>\n",
       "</div>"
      ],
      "text/plain": [
       "                                 GlobalID  ...   Longitude\n",
       "0  {5AC8034E-5B46-4294-85F0-5B13117EBEFE}  ... -122.688503\n",
       "1  {5EAD3364-2CA7-4A39-9A53-7F9DCF5D2041}  ... -122.700941\n",
       "2  {13B67BCB-AFCE-4100-AD2B-76EF178BA228}  ... -122.661300\n",
       "3  {124B9BFA-7F7B-4B8E-8A56-42E067F0F72E}  ... -123.943134\n",
       "4  {BBBA5BA0-CAFB-43D3-8F1D-FB2D9CF777E0}  ... -122.354431\n",
       "\n",
       "[5 rows x 8 columns]"
      ]
     },
     "execution_count": 7,
     "metadata": {
      "tags": []
     },
     "output_type": "execute_result"
    }
   ],
   "source": [
    "df2.head()"
   ]
  },
  {
   "cell_type": "code",
   "execution_count": 8,
   "metadata": {
    "colab": {
     "base_uri": "https://localhost:8080/",
     "height": 1000
    },
    "id": "-OSbjvX7lQNT",
    "outputId": "a947781f-1e39-4119-c5c8-f6e27bbff55f"
   },
   "outputs": [
    {
     "data": {
      "text/html": [
       "<div>\n",
       "<style scoped>\n",
       "    .dataframe tbody tr th:only-of-type {\n",
       "        vertical-align: middle;\n",
       "    }\n",
       "\n",
       "    .dataframe tbody tr th {\n",
       "        vertical-align: top;\n",
       "    }\n",
       "\n",
       "    .dataframe thead th {\n",
       "        text-align: right;\n",
       "    }\n",
       "</style>\n",
       "<table border=\"1\" class=\"dataframe\">\n",
       "  <thead>\n",
       "    <tr style=\"text-align: right;\">\n",
       "      <th></th>\n",
       "      <th>GlobalID</th>\n",
       "      <th>Detection Date</th>\n",
       "      <th>Notes</th>\n",
       "      <th>Lab Status</th>\n",
       "      <th>Lab Comments</th>\n",
       "      <th>Submission Date</th>\n",
       "      <th>Latitude</th>\n",
       "      <th>Longitude</th>\n",
       "    </tr>\n",
       "  </thead>\n",
       "  <tbody>\n",
       "    <tr>\n",
       "      <th>0</th>\n",
       "      <td>{5AC8034E-5B46-4294-85F0-5B13117EBEFE}</td>\n",
       "      <td>2019-12-08 00:00:00</td>\n",
       "      <td>One dead wasp seen in Blaine, and suspect flyi...</td>\n",
       "      <td>0.0</td>\n",
       "      <td></td>\n",
       "      <td>2020-01-15</td>\n",
       "      <td>48.980994</td>\n",
       "      <td>-122.688503</td>\n",
       "    </tr>\n",
       "    <tr>\n",
       "      <th>1</th>\n",
       "      <td>{5EAD3364-2CA7-4A39-9A53-7F9DCF5D2041}</td>\n",
       "      <td>2019-10-30 00:00:00</td>\n",
       "      <td>Hornet specimen sent to WSU</td>\n",
       "      <td>0.0</td>\n",
       "      <td></td>\n",
       "      <td>2020-01-15</td>\n",
       "      <td>48.971949</td>\n",
       "      <td>-122.700941</td>\n",
       "    </tr>\n",
       "    <tr>\n",
       "      <th>3</th>\n",
       "      <td>{124B9BFA-7F7B-4B8E-8A56-42E067F0F72E}</td>\n",
       "      <td>2019-09-19 00:00:00</td>\n",
       "      <td>This was the colony that was found and destroy...</td>\n",
       "      <td>0.0</td>\n",
       "      <td>Thanks for adding this, and the great pictures!</td>\n",
       "      <td>2020-02-04</td>\n",
       "      <td>49.149394</td>\n",
       "      <td>-123.943134</td>\n",
       "    </tr>\n",
       "    <tr>\n",
       "      <th>6</th>\n",
       "      <td>{C4F44511-EA53-4FCF-9422-E1C57703720D}</td>\n",
       "      <td>2020-02-29 00:00:00</td>\n",
       "      <td>I’m not sure what this is, but it was the bigg...</td>\n",
       "      <td>1.0</td>\n",
       "      <td>This is a large fly that mimics bees! Thanks f...</td>\n",
       "      <td>2020-02-29</td>\n",
       "      <td>48.729596</td>\n",
       "      <td>-122.480035</td>\n",
       "    </tr>\n",
       "    <tr>\n",
       "      <th>8</th>\n",
       "      <td>{89C867F1-D5ED-48C8-9586-B705F5DA9838}</td>\n",
       "      <td>2019-09-07 00:00:00</td>\n",
       "      <td>slow moving, i have this in the freezer still ...</td>\n",
       "      <td>1.0</td>\n",
       "      <td>Thank you for this submission. This is a harml...</td>\n",
       "      <td>2020-03-18</td>\n",
       "      <td>47.395721</td>\n",
       "      <td>-123.105188</td>\n",
       "    </tr>\n",
       "    <tr>\n",
       "      <th>...</th>\n",
       "      <td>...</td>\n",
       "      <td>...</td>\n",
       "      <td>...</td>\n",
       "      <td>...</td>\n",
       "      <td>...</td>\n",
       "      <td>...</td>\n",
       "      <td>...</td>\n",
       "      <td>...</td>\n",
       "    </tr>\n",
       "    <tr>\n",
       "      <th>4412</th>\n",
       "      <td>{5E01D3A1-46B2-4124-A9BD-9BB9D9873757}</td>\n",
       "      <td>2020-10-19 00:00:00</td>\n",
       "      <td>Super fast and kept banging in my sliding door</td>\n",
       "      <td>1.0</td>\n",
       "      <td>Thanks for the submission. That is a chubby ye...</td>\n",
       "      <td>2020-10-19</td>\n",
       "      <td>46.254336</td>\n",
       "      <td>-119.896162</td>\n",
       "    </tr>\n",
       "    <tr>\n",
       "      <th>4419</th>\n",
       "      <td>{04B3A8BE-2667-4A57-9E6A-D1C6D940F04E}</td>\n",
       "      <td>2020-10-21 00:00:00</td>\n",
       "      <td>I was walking on the selah cliffs trail and fo...</td>\n",
       "      <td>1.0</td>\n",
       "      <td>Thanks for the submission. That is a Jerusalem...</td>\n",
       "      <td>2020-10-21</td>\n",
       "      <td>46.709340</td>\n",
       "      <td>-120.460892</td>\n",
       "    </tr>\n",
       "    <tr>\n",
       "      <th>4420</th>\n",
       "      <td>{68887AEA-55BA-4FF8-BCD9-7D4082C065D0}</td>\n",
       "      <td>2020-10-21 00:00:00</td>\n",
       "      <td>Flew away towards the west</td>\n",
       "      <td>1.0</td>\n",
       "      <td>Thanks for the submission. That is a yellowjac...</td>\n",
       "      <td>2020-10-22</td>\n",
       "      <td>48.946326</td>\n",
       "      <td>-122.785606</td>\n",
       "    </tr>\n",
       "    <tr>\n",
       "      <th>4421</th>\n",
       "      <td>{8D61FCC9-4D37-41FA-BDFC-E1403B3EA840}</td>\n",
       "      <td>2020-10-20 00:00:00</td>\n",
       "      <td>This insect was large enough to trigger home s...</td>\n",
       "      <td>1.0</td>\n",
       "      <td>Thanks for the submission. Looks like either a...</td>\n",
       "      <td>2020-10-22</td>\n",
       "      <td>48.041019</td>\n",
       "      <td>-122.132495</td>\n",
       "    </tr>\n",
       "    <tr>\n",
       "      <th>4423</th>\n",
       "      <td>{8936D8CB-323F-45CE-90A0-5D1C343B6DF5}</td>\n",
       "      <td>2020-10-22 00:00:00</td>\n",
       "      <td></td>\n",
       "      <td>1.0</td>\n",
       "      <td>Thanks for the submission. That is a yellowjac...</td>\n",
       "      <td>2020-10-22</td>\n",
       "      <td>47.282895</td>\n",
       "      <td>-122.370925</td>\n",
       "    </tr>\n",
       "  </tbody>\n",
       "</table>\n",
       "<p>2083 rows × 8 columns</p>\n",
       "</div>"
      ],
      "text/plain": [
       "                                    GlobalID  ...   Longitude\n",
       "0     {5AC8034E-5B46-4294-85F0-5B13117EBEFE}  ... -122.688503\n",
       "1     {5EAD3364-2CA7-4A39-9A53-7F9DCF5D2041}  ... -122.700941\n",
       "3     {124B9BFA-7F7B-4B8E-8A56-42E067F0F72E}  ... -123.943134\n",
       "6     {C4F44511-EA53-4FCF-9422-E1C57703720D}  ... -122.480035\n",
       "8     {89C867F1-D5ED-48C8-9586-B705F5DA9838}  ... -123.105188\n",
       "...                                      ...  ...         ...\n",
       "4412  {5E01D3A1-46B2-4124-A9BD-9BB9D9873757}  ... -119.896162\n",
       "4419  {04B3A8BE-2667-4A57-9E6A-D1C6D940F04E}  ... -120.460892\n",
       "4420  {68887AEA-55BA-4FF8-BCD9-7D4082C065D0}  ... -122.785606\n",
       "4421  {8D61FCC9-4D37-41FA-BDFC-E1403B3EA840}  ... -122.132495\n",
       "4423  {8936D8CB-323F-45CE-90A0-5D1C343B6DF5}  ... -122.370925\n",
       "\n",
       "[2083 rows x 8 columns]"
      ]
     },
     "execution_count": 8,
     "metadata": {
      "tags": []
     },
     "output_type": "execute_result"
    }
   ],
   "source": [
    "df2.dropna()"
   ]
  },
  {
   "cell_type": "code",
   "execution_count": 9,
   "metadata": {
    "colab": {
     "base_uri": "https://localhost:8080/"
    },
    "id": "yCceOFdWlQNU",
    "outputId": "f1fd4500-d3d7-44c4-85f8-3b45b3c17587"
   },
   "outputs": [
    {
     "data": {
      "text/plain": [
       "1.0    2069\n",
       "0.0      14\n",
       "Name: Lab Status, dtype: int64"
      ]
     },
     "execution_count": 9,
     "metadata": {
      "tags": []
     },
     "output_type": "execute_result"
    }
   ],
   "source": [
    "df2['Lab Status'].value_counts()"
   ]
  },
  {
   "cell_type": "code",
   "execution_count": 10,
   "metadata": {
    "id": "ufh-gfBnlQNU"
   },
   "outputs": [],
   "source": [
    "del df2[\"GlobalID\"]\n",
    "del df2[\"Detection Date\"]\n",
    "del df2[\"Lab Comments\"]\n",
    "del df2[\"Submission Date\"]\n",
    "del df2[\"Latitude\"]\n",
    "del df2[\"Longitude\"]"
   ]
  },
  {
   "cell_type": "code",
   "execution_count": 11,
   "metadata": {
    "colab": {
     "base_uri": "https://localhost:8080/",
     "height": 204
    },
    "id": "e0AHTsILlQNU",
    "outputId": "d61e2d87-990c-4841-9384-ac036ded67bd"
   },
   "outputs": [
    {
     "data": {
      "text/html": [
       "<div>\n",
       "<style scoped>\n",
       "    .dataframe tbody tr th:only-of-type {\n",
       "        vertical-align: middle;\n",
       "    }\n",
       "\n",
       "    .dataframe tbody tr th {\n",
       "        vertical-align: top;\n",
       "    }\n",
       "\n",
       "    .dataframe thead th {\n",
       "        text-align: right;\n",
       "    }\n",
       "</style>\n",
       "<table border=\"1\" class=\"dataframe\">\n",
       "  <thead>\n",
       "    <tr style=\"text-align: right;\">\n",
       "      <th></th>\n",
       "      <th>Notes</th>\n",
       "      <th>Lab Status</th>\n",
       "    </tr>\n",
       "  </thead>\n",
       "  <tbody>\n",
       "    <tr>\n",
       "      <th>0</th>\n",
       "      <td>One dead wasp seen in Blaine, and suspect flyi...</td>\n",
       "      <td>0.0</td>\n",
       "    </tr>\n",
       "    <tr>\n",
       "      <th>1</th>\n",
       "      <td>Hornet specimen sent to WSU</td>\n",
       "      <td>0.0</td>\n",
       "    </tr>\n",
       "    <tr>\n",
       "      <th>2</th>\n",
       "      <td>Massive loss of bees, decapitated. No hornet s...</td>\n",
       "      <td>NaN</td>\n",
       "    </tr>\n",
       "    <tr>\n",
       "      <th>3</th>\n",
       "      <td>This was the colony that was found and destroy...</td>\n",
       "      <td>0.0</td>\n",
       "    </tr>\n",
       "    <tr>\n",
       "      <th>4</th>\n",
       "      <td>I was cleaning my gutters when I heard a snapp...</td>\n",
       "      <td>NaN</td>\n",
       "    </tr>\n",
       "  </tbody>\n",
       "</table>\n",
       "</div>"
      ],
      "text/plain": [
       "                                               Notes  Lab Status\n",
       "0  One dead wasp seen in Blaine, and suspect flyi...         0.0\n",
       "1                        Hornet specimen sent to WSU         0.0\n",
       "2  Massive loss of bees, decapitated. No hornet s...         NaN\n",
       "3  This was the colony that was found and destroy...         0.0\n",
       "4  I was cleaning my gutters when I heard a snapp...         NaN"
      ]
     },
     "execution_count": 11,
     "metadata": {
      "tags": []
     },
     "output_type": "execute_result"
    }
   ],
   "source": [
    "df2.head()"
   ]
  },
  {
   "cell_type": "code",
   "execution_count": 12,
   "metadata": {
    "id": "pgVzARuglQNV"
   },
   "outputs": [],
   "source": [
    "df2 = df2.dropna()"
   ]
  },
  {
   "cell_type": "code",
   "execution_count": 13,
   "metadata": {
    "colab": {
     "base_uri": "https://localhost:8080/",
     "height": 204
    },
    "id": "REQaqMCllQNV",
    "outputId": "41499d01-0064-4ea6-cce4-4ccf182d96b2"
   },
   "outputs": [
    {
     "data": {
      "text/html": [
       "<div>\n",
       "<style scoped>\n",
       "    .dataframe tbody tr th:only-of-type {\n",
       "        vertical-align: middle;\n",
       "    }\n",
       "\n",
       "    .dataframe tbody tr th {\n",
       "        vertical-align: top;\n",
       "    }\n",
       "\n",
       "    .dataframe thead th {\n",
       "        text-align: right;\n",
       "    }\n",
       "</style>\n",
       "<table border=\"1\" class=\"dataframe\">\n",
       "  <thead>\n",
       "    <tr style=\"text-align: right;\">\n",
       "      <th></th>\n",
       "      <th>Notes</th>\n",
       "      <th>Lab Status</th>\n",
       "    </tr>\n",
       "  </thead>\n",
       "  <tbody>\n",
       "    <tr>\n",
       "      <th>0</th>\n",
       "      <td>One dead wasp seen in Blaine, and suspect flyi...</td>\n",
       "      <td>0.0</td>\n",
       "    </tr>\n",
       "    <tr>\n",
       "      <th>1</th>\n",
       "      <td>Hornet specimen sent to WSU</td>\n",
       "      <td>0.0</td>\n",
       "    </tr>\n",
       "    <tr>\n",
       "      <th>3</th>\n",
       "      <td>This was the colony that was found and destroy...</td>\n",
       "      <td>0.0</td>\n",
       "    </tr>\n",
       "    <tr>\n",
       "      <th>6</th>\n",
       "      <td>I’m not sure what this is, but it was the bigg...</td>\n",
       "      <td>1.0</td>\n",
       "    </tr>\n",
       "    <tr>\n",
       "      <th>8</th>\n",
       "      <td>slow moving, i have this in the freezer still ...</td>\n",
       "      <td>1.0</td>\n",
       "    </tr>\n",
       "  </tbody>\n",
       "</table>\n",
       "</div>"
      ],
      "text/plain": [
       "                                               Notes  Lab Status\n",
       "0  One dead wasp seen in Blaine, and suspect flyi...         0.0\n",
       "1                        Hornet specimen sent to WSU         0.0\n",
       "3  This was the colony that was found and destroy...         0.0\n",
       "6  I’m not sure what this is, but it was the bigg...         1.0\n",
       "8  slow moving, i have this in the freezer still ...         1.0"
      ]
     },
     "execution_count": 13,
     "metadata": {
      "tags": []
     },
     "output_type": "execute_result"
    }
   ],
   "source": [
    "df2.head()"
   ]
  },
  {
   "cell_type": "code",
   "execution_count": 34,
   "metadata": {
    "colab": {
     "base_uri": "https://localhost:8080/"
    },
    "id": "14GYVpSLlQNV",
    "outputId": "aba9bab7-70e0-44b2-fa6e-e2674c99062e"
   },
   "outputs": [
    {
     "name": "stdout",
     "output_type": "stream",
     "text": [
      "NLTK Downloader\n",
      "---------------------------------------------------------------------------\n",
      "    d) Download   l) List    u) Update   c) Config   h) Help   q) Quit\n",
      "---------------------------------------------------------------------------\n",
      "Downloader> d\n",
      "\n",
      "Download which package (l=list; x=cancel)?\n",
      "  Identifier> wordnet\n",
      "    Downloading package wordnet to /root/nltk_data...\n",
      "      Unzipping corpora/wordnet.zip.\n",
      "\n",
      "---------------------------------------------------------------------------\n",
      "    d) Download   l) List    u) Update   c) Config   h) Help   q) Quit\n",
      "---------------------------------------------------------------------------\n",
      "Downloader> q\n"
     ]
    },
    {
     "data": {
      "text/plain": [
       "True"
      ]
     },
     "execution_count": 34,
     "metadata": {
      "tags": []
     },
     "output_type": "execute_result"
    }
   ],
   "source": [
    "import nltk\n",
    "nltk.download()"
   ]
  },
  {
   "cell_type": "code",
   "execution_count": 24,
   "metadata": {
    "id": "BdZRR9lClQNW"
   },
   "outputs": [],
   "source": [
    "from nltk.corpus import stopwords"
   ]
  },
  {
   "cell_type": "code",
   "execution_count": 26,
   "metadata": {
    "id": "yWOWasjMlQNW"
   },
   "outputs": [],
   "source": [
    "stop = set(stopwords.words('english'))"
   ]
  },
  {
   "cell_type": "code",
   "execution_count": 27,
   "metadata": {
    "id": "6gYWzSi3lQNW"
   },
   "outputs": [],
   "source": [
    "from string import punctuation"
   ]
  },
  {
   "cell_type": "code",
   "execution_count": 28,
   "metadata": {
    "id": "jH6PcpailQNW"
   },
   "outputs": [],
   "source": [
    "stop.update(punctuation)"
   ]
  },
  {
   "cell_type": "code",
   "execution_count": 29,
   "metadata": {
    "id": "1vqYHCIzlQNW"
   },
   "outputs": [],
   "source": [
    "def get_simple_pos(tag):\n",
    "    if tag.startswith('J'):\n",
    "        return wordnet.ADJ\n",
    "    elif tag.startswith('V'):\n",
    "        return wordnet.VERB\n",
    "    elif tag.startswith('N'):\n",
    "        return wordnet.NOUN\n",
    "    elif tag.startswith('R'):\n",
    "        return wordnet.ADV\n",
    "    else:\n",
    "        return wordnet.NOUN"
   ]
  },
  {
   "cell_type": "code",
   "execution_count": 30,
   "metadata": {
    "id": "EngszSiolQNW"
   },
   "outputs": [],
   "source": [
    "from nltk.stem import WordNetLemmatizer\n",
    "from nltk import pos_tag\n",
    "from nltk.corpus import wordnet\n",
    "\n",
    "lemmatizer = WordNetLemmatizer()\n",
    "def lemmatize_words(text):\n",
    "    final_text = []\n",
    "    for i in text.split():\n",
    "        if i.strip().lower() not in stop:\n",
    "            pos = pos_tag([i.strip()])\n",
    "            word = lemmatizer.lemmatize(i.strip(),get_simple_pos(pos[0][1]))\n",
    "            final_text.append(word.lower())\n",
    "    return \" \".join(final_text)"
   ]
  },
  {
   "cell_type": "code",
   "execution_count": 35,
   "metadata": {
    "id": "n4yxrXUnlQNX"
   },
   "outputs": [],
   "source": [
    "df2['Notes'] = df2['Notes'].astype(str)\n",
    "df2.Notes = df2.Notes.apply(lemmatize_words)"
   ]
  },
  {
   "cell_type": "code",
   "execution_count": 36,
   "metadata": {
    "colab": {
     "base_uri": "https://localhost:8080/",
     "height": 204
    },
    "id": "g0SpxpLllQNX",
    "outputId": "98489add-60e0-4843-87c4-f59f8965ae68"
   },
   "outputs": [
    {
     "data": {
      "text/html": [
       "<div>\n",
       "<style scoped>\n",
       "    .dataframe tbody tr th:only-of-type {\n",
       "        vertical-align: middle;\n",
       "    }\n",
       "\n",
       "    .dataframe tbody tr th {\n",
       "        vertical-align: top;\n",
       "    }\n",
       "\n",
       "    .dataframe thead th {\n",
       "        text-align: right;\n",
       "    }\n",
       "</style>\n",
       "<table border=\"1\" class=\"dataframe\">\n",
       "  <thead>\n",
       "    <tr style=\"text-align: right;\">\n",
       "      <th></th>\n",
       "      <th>Notes</th>\n",
       "      <th>Lab Status</th>\n",
       "    </tr>\n",
       "  </thead>\n",
       "  <tbody>\n",
       "    <tr>\n",
       "      <th>0</th>\n",
       "      <td>one dead wasp see blaine, suspect fly nearby</td>\n",
       "      <td>0.0</td>\n",
       "    </tr>\n",
       "    <tr>\n",
       "      <th>1</th>\n",
       "      <td>hornet specimen sent wsu</td>\n",
       "      <td>0.0</td>\n",
       "    </tr>\n",
       "    <tr>\n",
       "      <th>3</th>\n",
       "      <td>colony found destroyed nanaimo, bc sep 18, 201...</td>\n",
       "      <td>0.0</td>\n",
       "    </tr>\n",
       "    <tr>\n",
       "      <th>6</th>\n",
       "      <td>i’m sure is, big look wasp/hornet i’ve ever se...</td>\n",
       "      <td>1.0</td>\n",
       "    </tr>\n",
       "    <tr>\n",
       "      <th>8</th>\n",
       "      <td>slow moving, freezer still think. saw 3 98588</td>\n",
       "      <td>1.0</td>\n",
       "    </tr>\n",
       "  </tbody>\n",
       "</table>\n",
       "</div>"
      ],
      "text/plain": [
       "                                               Notes  Lab Status\n",
       "0       one dead wasp see blaine, suspect fly nearby         0.0\n",
       "1                           hornet specimen sent wsu         0.0\n",
       "3  colony found destroyed nanaimo, bc sep 18, 201...         0.0\n",
       "6  i’m sure is, big look wasp/hornet i’ve ever se...         1.0\n",
       "8      slow moving, freezer still think. saw 3 98588         1.0"
      ]
     },
     "execution_count": 36,
     "metadata": {
      "tags": []
     },
     "output_type": "execute_result"
    }
   ],
   "source": [
    "df2.head()"
   ]
  },
  {
   "cell_type": "code",
   "execution_count": 37,
   "metadata": {
    "id": "JXog0NiulQNX"
   },
   "outputs": [],
   "source": [
    "from sklearn.model_selection import train_test_split\n",
    "x_train,x_test,y_train,y_test = train_test_split(df2['Notes'],df2['Lab Status'],test_size = 0.2 , random_state = 0)"
   ]
  },
  {
   "cell_type": "code",
   "execution_count": 38,
   "metadata": {
    "colab": {
     "base_uri": "https://localhost:8080/"
    },
    "id": "psOfmDdqlQNX",
    "outputId": "7cbe194c-2b97-499e-e3e0-d08dc17be9a4"
   },
   "outputs": [
    {
     "name": "stdout",
     "output_type": "stream",
     "text": [
      "Tfidf_train: (1666, 21381)\n",
      "Tfidf_test: (417, 21381)\n"
     ]
    }
   ],
   "source": [
    "from sklearn.feature_extraction.text import TfidfVectorizer\n",
    "\n",
    "tv=TfidfVectorizer(min_df=0,max_df=1,use_idf=True,ngram_range=(1,3))\n",
    "#transformed train reviews\n",
    "tv_train_reviews=tv.fit_transform(x_train)\n",
    "#transformed test reviews\n",
    "tv_test_reviews=tv.transform(x_test)\n",
    "print('Tfidf_train:',tv_train_reviews.shape)\n",
    "print('Tfidf_test:',tv_test_reviews.shape)"
   ]
  },
  {
   "cell_type": "code",
   "execution_count": 40,
   "metadata": {
    "colab": {
     "base_uri": "https://localhost:8080/"
    },
    "id": "evzDgEVxlQNY",
    "outputId": "a5c8bea7-3303-416e-a758-caedb2950711"
   },
   "outputs": [
    {
     "name": "stdout",
     "output_type": "stream",
     "text": [
      "MultinomialNB(alpha=1.0, class_prior=None, fit_prior=True)\n"
     ]
    }
   ],
   "source": [
    "from sklearn.naive_bayes import MultinomialNB\n",
    "\n",
    "#training the model\n",
    "mnb=MultinomialNB()\n",
    "\n",
    "#fitting the nb for tfidf features\n",
    "mnb_tfidf=mnb.fit(tv_train_reviews,y_train)\n",
    "print(mnb_tfidf)"
   ]
  },
  {
   "cell_type": "code",
   "execution_count": 41,
   "metadata": {
    "id": "SnVw4767lQNY"
   },
   "outputs": [],
   "source": [
    "mnb_tfidf_predict=mnb.predict(tv_test_reviews)"
   ]
  },
  {
   "cell_type": "code",
   "execution_count": 42,
   "metadata": {
    "colab": {
     "base_uri": "https://localhost:8080/"
    },
    "id": "VgXADNWUlQNY",
    "outputId": "8521d1af-b76d-4c96-eb85-11f9a48f7ed5"
   },
   "outputs": [
    {
     "name": "stdout",
     "output_type": "stream",
     "text": [
      "mnb_tfidf_score : 1.0\n"
     ]
    }
   ],
   "source": [
    "from sklearn.metrics import classification_report,confusion_matrix,accuracy_score\n",
    "\n",
    "mnb_tfidf_score=accuracy_score(y_test,mnb_tfidf_predict)\n",
    "print(\"mnb_tfidf_score :\",mnb_tfidf_score)"
   ]
  },
  {
   "cell_type": "code",
   "execution_count": 47,
   "metadata": {
    "id": "6YTmBweYnF7K"
   },
   "outputs": [],
   "source": [
    "cv=CountVectorizer(min_df=0,max_df=1,binary=False,ngram_range=(1,3))\n",
    "#transformed train reviews\n",
    "cv_train_reviews=cv.fit_transform(x_train)\n",
    "#transformed test reviews\n",
    "cv_test_reviews=cv.transform(x_test)"
   ]
  },
  {
   "cell_type": "code",
   "execution_count": 50,
   "metadata": {
    "colab": {
     "base_uri": "https://localhost:8080/"
    },
    "id": "7bHPkf4ylQNZ",
    "outputId": "126168f5-4360-4f29-e720-47f06ea38f31"
   },
   "outputs": [
    {
     "name": "stdout",
     "output_type": "stream",
     "text": [
      "MultinomialNB(alpha=1.0, class_prior=None, fit_prior=True)\n",
      "MultinomialNB(alpha=1.0, class_prior=None, fit_prior=True)\n"
     ]
    }
   ],
   "source": [
    "#training the model\n",
    "mnb=MultinomialNB()\n",
    "#fitting the nb for bag of words\n",
    "mnb_bow=mnb.fit(cv_train_reviews,y_train)\n",
    "print(mnb_bow)\n",
    "#fitting the nb for tfidf features\n",
    "mnb_tfidf=mnb.fit(tv_train_reviews,y_train)\n",
    "print(mnb_tfidf)"
   ]
  },
  {
   "cell_type": "code",
   "execution_count": 51,
   "metadata": {
    "id": "xJYhD3xClQNZ"
   },
   "outputs": [],
   "source": [
    "#Predicting the model for bag of words\n",
    "mnb_bow_predict=mnb.predict(cv_test_reviews)\n",
    "#Predicting the model for tfidf features\n",
    "mnb_tfidf_predict=mnb.predict(tv_test_reviews)"
   ]
  },
  {
   "cell_type": "code",
   "execution_count": 52,
   "metadata": {
    "colab": {
     "base_uri": "https://localhost:8080/"
    },
    "id": "3mfk2uTUlQNZ",
    "outputId": "1a1c1c19-4409-4120-e3f6-0655f1d109ce"
   },
   "outputs": [
    {
     "name": "stdout",
     "output_type": "stream",
     "text": [
      "mnb_bow_score : 1.0\n",
      "mnb_tfidf_score : 1.0\n"
     ]
    }
   ],
   "source": [
    "#Accuracy score for bag of words\n",
    "mnb_bow_score=accuracy_score(y_test,mnb_bow_predict)\n",
    "print(\"mnb_bow_score :\",mnb_bow_score)\n",
    "#Accuracy score for tfidf features\n",
    "mnb_tfidf_score=accuracy_score(y_test,mnb_tfidf_predict)\n",
    "print(\"mnb_tfidf_score :\",mnb_tfidf_score)"
   ]
  },
  {
   "cell_type": "code",
   "execution_count": null,
   "metadata": {
    "id": "3xtE4mChlQNa"
   },
   "outputs": [],
   "source": []
  }
 ],
 "metadata": {
  "colab": {
   "name": "Untitled.ipynb",
   "provenance": []
  },
  "kernelspec": {
   "display_name": "Python 3",
   "language": "python",
   "name": "python3"
  },
  "language_info": {
   "codemirror_mode": {
    "name": "ipython",
    "version": 3
   },
   "file_extension": ".py",
   "mimetype": "text/x-python",
   "name": "python",
   "nbconvert_exporter": "python",
   "pygments_lexer": "ipython3",
   "version": "3.8.3"
  }
 },
 "nbformat": 4,
 "nbformat_minor": 1
}
